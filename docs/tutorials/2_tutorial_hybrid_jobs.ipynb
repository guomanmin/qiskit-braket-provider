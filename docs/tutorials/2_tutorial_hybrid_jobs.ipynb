{
 "cells": [
  {
   "cell_type": "markdown",
   "id": "adc318c6",
   "metadata": {},
   "source": [
    "# Tutorial: Variational algorithms on Hybrid jobs"
   ]
  },
  {
   "cell_type": "markdown",
   "id": "8e36b315",
   "metadata": {},
   "source": [
    "## Hybrid Jobs"
   ]
  },
  {
   "cell_type": "markdown",
   "id": "a6c9025e",
   "metadata": {},
   "source": [
    "Amazon Braket Hybrid Jobs offers a way for you to run hybrid quantum-classical algorithms that require both classical resources and quantum processing units (QPUs). Hybrid Jobs is designed to spin up the requested classical compute, run your algorithm, and release the instances after completion so you only pay for what you use. This workflow is ideal for long-running iterative algorithms involving both classical and quantum resources. In this notebook we show you how to run such a job via the qiskit-braket provider.\n",
    "\n",
    "Read more at https://docs.aws.amazon.com/braket/latest/developerguide/braket-jobs.html"
   ]
  },
  {
   "cell_type": "markdown",
   "id": "5f46c9fe",
   "metadata": {},
   "source": [
    "## Prepare Files"
   ]
  },
  {
   "cell_type": "markdown",
   "id": "3f2c43fc",
   "metadata": {},
   "source": [
    "### Prepare Hybrid Job Script"
   ]
  },
  {
   "cell_type": "markdown",
   "id": "18a4937a",
   "metadata": {},
   "source": [
    "The job script defines the specific quantum logic to be executed on the quantum processor and the classical processing that the output is saved to, in this case, setting up the device backend and saving the job results to the EC2 instance.\n"
   ]
  },
  {
   "cell_type": "code",
   "execution_count": 1,
   "id": "b9184273",
   "metadata": {},
   "outputs": [
    {
     "name": "stdout",
     "output_type": "stream",
     "text": [
      "\"\"\"Example of Hybrid Job payload with VQE.\"\"\"\r\n",
      "from braket.jobs import save_job_result\r\n",
      "from qiskit.quantum_info import SparsePauliOp\r\n",
      "from qiskit.algorithms.minimum_eigensolvers import VQE\r\n",
      "from qiskit.algorithms.optimizers import SLSQP\r\n",
      "from qiskit.circuit.library import TwoLocal\r\n",
      "from qiskit.primitives import BackendEstimator\r\n",
      "\r\n",
      "from qiskit_braket_provider import AWSBraketProvider\r\n",
      "\r\n",
      "\r\n",
      "def main():\r\n",
      "    # Sets up the \"SV1\" backend the quantum device, a default simulator provided by Amazon Braket.\r\n",
      "    backend = AWSBraketProvider().get_backend(\"SV1\")\r\n",
      "\r\n",
      "    h2_op = SparsePauliOp(\r\n",
      "        [\"II\", \"IZ\", \"ZI\", \"ZZ\", \"XX\"],\r\n",
      "        coeffs=[\r\n",
      "            -1.052373245772859,\r\n",
      "            0.39793742484318045,\r\n",
      "            -0.39793742484318045,\r\n",
      "            -0.01128010425623538,\r\n",
      "            0.18093119978423156,\r\n",
      "        ],\r\n",
      "    )\r\n",
      "\r\n",
      "    estimator = BackendEstimator(\r\n",
      "        backend=backend,\r\n",
      "        options={\"seed_simulator\": 42, \"seed_transpiler\": 42, \"shots\": 10},\r\n",
      "        skip_transpilation=False,\r\n",
      "    )\r\n",
      "    ansatz = TwoLocal(rotation_blocks=\"ry\", entanglement_blocks=\"cz\")\r\n",
      "    slsqp = SLSQP(maxiter=1)\r\n",
      "\r\n",
      "    vqe = VQE(estimator=estimator, ansatz=ansatz, optimizer=slsqp)\r\n",
      "\r\n",
      "    vqe_result = vqe.compute_minimum_eigenvalue(h2_op)\r\n",
      "\r\n",
      "    # Save the results of the VQE computation to the EC2 instance.\r\n",
      "    save_job_result(\r\n",
      "        {\r\n",
      "            \"VQE\": {\r\n",
      "                \"eigenvalue\": vqe_result.eigenvalue.real,\r\n",
      "                \"optimal_parameters\": list(vqe_result.optimal_parameters.values()),\r\n",
      "                \"optimal_point\": vqe_result.optimal_point.tolist(),\r\n",
      "                \"optimal_value\": vqe_result.optimal_value.real,\r\n",
      "            }\r\n",
      "        }\r\n",
      "    )\r\n"
     ]
    }
   ],
   "source": [
    "! cat ./data/2_hybrid_jobs/job_script.py"
   ]
  },
  {
   "cell_type": "markdown",
   "id": "f840ef07",
   "metadata": {},
   "source": [
    "In summary, this script sets up the hybrid job script that executes a VQE computation using a the Amazon Braket SV1 default simulator as the quantum backend and then saves the results of the computation to the EC2 instance the hybrid job is running on."
   ]
  },
  {
   "cell_type": "markdown",
   "id": "6010160f",
   "metadata": {},
   "source": [
    "## Running your job\n",
    "Amazon Braket provides a container for Hyrbid Jobs that has the qiskit-braket container and associated dependencies installed. To use the base container, call `retrieve_image(Framework.BASE, AwsSession().region)` as demonstrated below:"
   ]
  },
  {
   "cell_type": "code",
   "execution_count": 5,
   "id": "5e644a0f",
   "metadata": {},
   "outputs": [],
   "source": [
    "from pprint import pprint\n",
    "from braket.aws import AwsQuantumJob, AwsSession\n",
    "from braket.jobs.image_uris import Framework, retrieve_image\n",
    "\n",
    "job = AwsQuantumJob.create(\n",
    "    device=\"arn:aws:braket:::device/quantum-simulator/amazon/sv1\",\n",
    "    source_module=\"data/2_hybrid_jobs/job_script.py\",\n",
    "    entry_point=\"job_script:main\",\n",
    "    wait_until_complete=False,\n",
    "    job_name=\"qiskit-braket-vqe-6\",\n",
    "    image_uri=retrieve_image(Framework.BASE, AwsSession().region),\n",
    ")\n"
   ]
  },
  {
   "cell_type": "code",
   "execution_count": 7,
   "id": "23e007d1",
   "metadata": {},
   "outputs": [
    {
     "name": "stdout",
     "output_type": "stream",
     "text": [
      "{}\n"
     ]
    }
   ],
   "source": [
    "result = job.result()\n",
    "pprint(result)"
   ]
  },
  {
   "cell_type": "code",
   "execution_count": null,
   "id": "1ea3982e",
   "metadata": {},
   "outputs": [],
   "source": [
    "import matplotlib.pyplot as plt\n",
    "\n",
    "# Sample data\n",
    "result = {\n",
    "    'VQE': {\n",
    "        'eigenstate': {'01': 0.8366600265340756, '11': 0.5477225575051661},\n",
    "        'eigenvalue': -1.6823050629682066,\n",
    "        'optimal_parameters': [2.965910707685307, -4.658133055892289, -4.3956015975227265, -3.682189424847994, 0.3499389384822065, -2.55160387237748, 2.0897918250881915, 1.0061448749802206],\n",
    "        'optimal_point': [2.965910707685307, -4.658133055892289, -4.3956015975227265, -3.682189424847994, 0.3499389384822065, -2.55160387237748, 2.0897918250881915, 1.0061448749802206],\n",
    "        'optimal_value': -1.6823050629682066\n",
    "    }\n",
    "}\n",
    "\n",
    "# Extract data for visualization\n",
    "eigenstate = result['VQE']['eigenstate']\n",
    "optimal_parameters = result['VQE']['optimal_parameters']\n",
    "optimal_point = result['VQE']['optimal_point']\n",
    "\n",
    "# Create a 3x1 grid of subplots\n",
    "plt.figure(figsize=(8, 12))\n",
    "\n",
    "# Plot Eigenstate Probabilities\n",
    "plt.subplot(3, 1, 1)\n",
    "plt.bar(eigenstate.keys(), eigenstate.values())\n",
    "plt.xlabel('Eigenstate')\n",
    "plt.ylabel('Probability')\n",
    "plt.title('Eigenstate Probabilities')\n",
    "\n",
    "# Plot Optimal Parameters\n",
    "plt.subplot(3, 1, 2)\n",
    "plt.plot(optimal_parameters, marker='o', linestyle='--', color='b', label='Optimal Parameters')\n",
    "plt.xlabel('Parameter Index')\n",
    "plt.ylabel('Parameter Value')\n",
    "plt.title('Optimal Parameters')\n",
    "\n",
    "# Plot Optimal Point Values\n",
    "plt.subplot(3, 1, 3)\n",
    "plt.plot(optimal_point, marker='o', linestyle='--', color='g', label='Optimal Point')\n",
    "plt.xlabel('Index')\n",
    "plt.ylabel('Value')\n",
    "plt.title('Optimal Point Values')\n",
    "\n",
    "# Adjust spacing between subplots\n",
    "plt.subplots_adjust(hspace=0.5)\n",
    "\n",
    "# Show the plot\n",
    "plt.tight_layout()\n",
    "plt.show()\n"
   ]
  },
  {
   "cell_type": "code",
   "execution_count": null,
   "id": "78b939e9",
   "metadata": {},
   "outputs": [],
   "source": []
  }
 ],
 "metadata": {
  "kernelspec": {
   "display_name": "Python 3 (ipykernel)",
   "language": "python",
   "name": "python3"
  },
  "language_info": {
   "codemirror_mode": {
    "name": "ipython",
    "version": 3
   },
   "file_extension": ".py",
   "mimetype": "text/x-python",
   "name": "python",
   "nbconvert_exporter": "python",
   "pygments_lexer": "ipython3",
   "version": "3.10.9"
  }
 },
 "nbformat": 4,
 "nbformat_minor": 5
}
